{
 "cells": [
  {
   "cell_type": "code",
   "execution_count": 1,
   "id": "7d2b2be4-8d15-4e42-a212-f8f7d3eeec9f",
   "metadata": {},
   "outputs": [],
   "source": [
    "import os\n",
    "import sys\n",
    "\n",
    "import geopandas as gpd"
   ]
  },
  {
   "cell_type": "code",
   "execution_count": 2,
   "id": "4e17ef11-3fc7-4b6a-914a-32bd189f6aa9",
   "metadata": {},
   "outputs": [],
   "source": [
    "module_path = os.path.abspath(os.path.join('..'))\n",
    "if module_path not in sys.path:\n",
    "    sys.path.append(module_path)\n",
    "\n",
    "from utils import path_utils"
   ]
  },
  {
   "cell_type": "code",
   "execution_count": 3,
   "id": "55a692ca-0b3e-4f00-ab39-3ad9f53a6a99",
   "metadata": {},
   "outputs": [],
   "source": [
    "pathUtils = path_utils.PathUtils()"
   ]
  },
  {
   "cell_type": "markdown",
   "id": "38266359-23e2-4f28-ae44-28eafc43acf8",
   "metadata": {},
   "source": [
    "# Prepare geodataframe"
   ]
  },
  {
   "cell_type": "code",
   "execution_count": 4,
   "id": "6c1f5cd8-8cc9-4234-b366-0ddab96b72d5",
   "metadata": {},
   "outputs": [],
   "source": [
    "provinces_gdf = gpd.read_file('../datasets/limits_IT_provinces.geojson')"
   ]
  },
  {
   "cell_type": "code",
   "execution_count": 5,
   "id": "69ecf846-5f75-4959-8fee-d9aa2a33b474",
   "metadata": {},
   "outputs": [
    {
     "data": {
      "text/html": [
       "<div>\n",
       "<style scoped>\n",
       "    .dataframe tbody tr th:only-of-type {\n",
       "        vertical-align: middle;\n",
       "    }\n",
       "\n",
       "    .dataframe tbody tr th {\n",
       "        vertical-align: top;\n",
       "    }\n",
       "\n",
       "    .dataframe thead th {\n",
       "        text-align: right;\n",
       "    }\n",
       "</style>\n",
       "<table border=\"1\" class=\"dataframe\">\n",
       "  <thead>\n",
       "    <tr style=\"text-align: right;\">\n",
       "      <th></th>\n",
       "      <th>prov_name</th>\n",
       "      <th>prov_istat_code_num</th>\n",
       "      <th>prov_acr</th>\n",
       "      <th>reg_name</th>\n",
       "      <th>reg_istat_code</th>\n",
       "      <th>reg_istat_code_num</th>\n",
       "      <th>prov_istat_code</th>\n",
       "      <th>geometry</th>\n",
       "    </tr>\n",
       "  </thead>\n",
       "  <tbody>\n",
       "    <tr>\n",
       "      <th>0</th>\n",
       "      <td>Torino</td>\n",
       "      <td>1</td>\n",
       "      <td>TO</td>\n",
       "      <td>Piemonte</td>\n",
       "      <td>01</td>\n",
       "      <td>1</td>\n",
       "      <td>001</td>\n",
       "      <td>POLYGON ((7.89397 45.58222, 7.89654 45.57985, ...</td>\n",
       "    </tr>\n",
       "    <tr>\n",
       "      <th>1</th>\n",
       "      <td>Vercelli</td>\n",
       "      <td>2</td>\n",
       "      <td>VC</td>\n",
       "      <td>Piemonte</td>\n",
       "      <td>01</td>\n",
       "      <td>1</td>\n",
       "      <td>002</td>\n",
       "      <td>POLYGON ((7.92900 45.74244, 7.92584 45.74196, ...</td>\n",
       "    </tr>\n",
       "    <tr>\n",
       "      <th>2</th>\n",
       "      <td>Novara</td>\n",
       "      <td>3</td>\n",
       "      <td>NO</td>\n",
       "      <td>Piemonte</td>\n",
       "      <td>01</td>\n",
       "      <td>1</td>\n",
       "      <td>003</td>\n",
       "      <td>POLYGON ((8.42079 45.82981, 8.42028 45.83010, ...</td>\n",
       "    </tr>\n",
       "    <tr>\n",
       "      <th>3</th>\n",
       "      <td>Cuneo</td>\n",
       "      <td>4</td>\n",
       "      <td>CN</td>\n",
       "      <td>Piemonte</td>\n",
       "      <td>01</td>\n",
       "      <td>1</td>\n",
       "      <td>004</td>\n",
       "      <td>MULTIPOLYGON (((6.94540 44.42794, 6.94734 44.4...</td>\n",
       "    </tr>\n",
       "    <tr>\n",
       "      <th>4</th>\n",
       "      <td>Asti</td>\n",
       "      <td>5</td>\n",
       "      <td>AT</td>\n",
       "      <td>Piemonte</td>\n",
       "      <td>01</td>\n",
       "      <td>1</td>\n",
       "      <td>005</td>\n",
       "      <td>POLYGON ((7.96685 45.11667, 7.96729 45.11673, ...</td>\n",
       "    </tr>\n",
       "    <tr>\n",
       "      <th>...</th>\n",
       "      <td>...</td>\n",
       "      <td>...</td>\n",
       "      <td>...</td>\n",
       "      <td>...</td>\n",
       "      <td>...</td>\n",
       "      <td>...</td>\n",
       "      <td>...</td>\n",
       "      <td>...</td>\n",
       "    </tr>\n",
       "    <tr>\n",
       "      <th>102</th>\n",
       "      <td>Sassari</td>\n",
       "      <td>90</td>\n",
       "      <td>SS</td>\n",
       "      <td>Sardegna</td>\n",
       "      <td>20</td>\n",
       "      <td>20</td>\n",
       "      <td>090</td>\n",
       "      <td>MULTIPOLYGON (((9.46502 40.65584, 9.46475 40.6...</td>\n",
       "    </tr>\n",
       "    <tr>\n",
       "      <th>103</th>\n",
       "      <td>Nuoro</td>\n",
       "      <td>91</td>\n",
       "      <td>NU</td>\n",
       "      <td>Sardegna</td>\n",
       "      <td>20</td>\n",
       "      <td>20</td>\n",
       "      <td>091</td>\n",
       "      <td>MULTIPOLYGON (((9.28037 39.91741, 9.27741 39.9...</td>\n",
       "    </tr>\n",
       "    <tr>\n",
       "      <th>104</th>\n",
       "      <td>Cagliari</td>\n",
       "      <td>92</td>\n",
       "      <td>CA</td>\n",
       "      <td>Sardegna</td>\n",
       "      <td>20</td>\n",
       "      <td>20</td>\n",
       "      <td>092</td>\n",
       "      <td>MULTIPOLYGON (((8.84872 39.09924, 8.84697 39.1...</td>\n",
       "    </tr>\n",
       "    <tr>\n",
       "      <th>105</th>\n",
       "      <td>Oristano</td>\n",
       "      <td>95</td>\n",
       "      <td>OR</td>\n",
       "      <td>Sardegna</td>\n",
       "      <td>20</td>\n",
       "      <td>20</td>\n",
       "      <td>095</td>\n",
       "      <td>MULTIPOLYGON (((8.78200 40.18982, 8.78829 40.1...</td>\n",
       "    </tr>\n",
       "    <tr>\n",
       "      <th>106</th>\n",
       "      <td>Sud Sardegna</td>\n",
       "      <td>111</td>\n",
       "      <td>SU</td>\n",
       "      <td>Sardegna</td>\n",
       "      <td>20</td>\n",
       "      <td>20</td>\n",
       "      <td>111</td>\n",
       "      <td>MULTIPOLYGON (((8.50222 39.71303, 8.50016 39.7...</td>\n",
       "    </tr>\n",
       "  </tbody>\n",
       "</table>\n",
       "<p>107 rows × 8 columns</p>\n",
       "</div>"
      ],
      "text/plain": [
       "        prov_name  prov_istat_code_num prov_acr  reg_name reg_istat_code  \\\n",
       "0          Torino                    1       TO  Piemonte             01   \n",
       "1        Vercelli                    2       VC  Piemonte             01   \n",
       "2          Novara                    3       NO  Piemonte             01   \n",
       "3           Cuneo                    4       CN  Piemonte             01   \n",
       "4            Asti                    5       AT  Piemonte             01   \n",
       "..            ...                  ...      ...       ...            ...   \n",
       "102       Sassari                   90       SS  Sardegna             20   \n",
       "103         Nuoro                   91       NU  Sardegna             20   \n",
       "104      Cagliari                   92       CA  Sardegna             20   \n",
       "105      Oristano                   95       OR  Sardegna             20   \n",
       "106  Sud Sardegna                  111       SU  Sardegna             20   \n",
       "\n",
       "     reg_istat_code_num prov_istat_code  \\\n",
       "0                     1             001   \n",
       "1                     1             002   \n",
       "2                     1             003   \n",
       "3                     1             004   \n",
       "4                     1             005   \n",
       "..                  ...             ...   \n",
       "102                  20             090   \n",
       "103                  20             091   \n",
       "104                  20             092   \n",
       "105                  20             095   \n",
       "106                  20             111   \n",
       "\n",
       "                                              geometry  \n",
       "0    POLYGON ((7.89397 45.58222, 7.89654 45.57985, ...  \n",
       "1    POLYGON ((7.92900 45.74244, 7.92584 45.74196, ...  \n",
       "2    POLYGON ((8.42079 45.82981, 8.42028 45.83010, ...  \n",
       "3    MULTIPOLYGON (((6.94540 44.42794, 6.94734 44.4...  \n",
       "4    POLYGON ((7.96685 45.11667, 7.96729 45.11673, ...  \n",
       "..                                                 ...  \n",
       "102  MULTIPOLYGON (((9.46502 40.65584, 9.46475 40.6...  \n",
       "103  MULTIPOLYGON (((9.28037 39.91741, 9.27741 39.9...  \n",
       "104  MULTIPOLYGON (((8.84872 39.09924, 8.84697 39.1...  \n",
       "105  MULTIPOLYGON (((8.78200 40.18982, 8.78829 40.1...  \n",
       "106  MULTIPOLYGON (((8.50222 39.71303, 8.50016 39.7...  \n",
       "\n",
       "[107 rows x 8 columns]"
      ]
     },
     "execution_count": 5,
     "metadata": {},
     "output_type": "execute_result"
    }
   ],
   "source": [
    "provinces_gdf"
   ]
  },
  {
   "cell_type": "code",
   "execution_count": 6,
   "id": "8d3803a0-faac-4292-976c-e47de013d302",
   "metadata": {},
   "outputs": [
    {
     "data": {
      "text/plain": [
       "array(['TO', 'VC', 'NO', 'CN', 'AT', 'AL', 'BI', 'VB', 'AO', 'VA', 'CO',\n",
       "       'SO', 'MI', 'BG', 'BS', 'PV', 'CR', 'MN', 'LC', 'LO', 'MB', 'BZ',\n",
       "       'TN', 'VR', 'VI', 'BL', 'TV', 'VE', 'PD', 'RO', 'UD', 'GO', 'TS',\n",
       "       'PN', 'IM', 'SV', 'GE', 'SP', 'PC', 'PR', 'RE', 'MO', 'BO', 'FE',\n",
       "       'RA', 'FC', 'RN', 'MS', 'LU', 'PT', 'FI', 'LI', 'PI', 'AR', 'SI',\n",
       "       'GR', 'PO', 'PG', 'TR', 'PU', 'AN', 'MC', 'AP', 'FM', 'VT', 'RI',\n",
       "       'RM', 'LT', 'FR', 'AQ', 'TE', 'PE', 'CH', 'CB', 'IS', 'CE', 'BN',\n",
       "       'NA', 'AV', 'SA', 'FG', 'BA', 'TA', 'BR', 'LE', 'BT', 'PZ', 'MT',\n",
       "       'CS', 'CZ', 'RC', 'KR', 'VV', 'TP', 'PA', 'ME', 'AG', 'CL', 'EN',\n",
       "       'CT', 'RG', 'SR', 'SS', 'NU', 'CA', 'OR', 'SU'], dtype=object)"
      ]
     },
     "execution_count": 6,
     "metadata": {},
     "output_type": "execute_result"
    }
   ],
   "source": [
    "provinces_gdf.prov_acr.unique()"
   ]
  },
  {
   "cell_type": "code",
   "execution_count": 7,
   "id": "d24ae3ac-1edd-4117-9432-6acd80d34ba6",
   "metadata": {},
   "outputs": [],
   "source": [
    "git_root_path = pathUtils.get_git_root(os.getcwd())"
   ]
  },
  {
   "cell_type": "code",
   "execution_count": 8,
   "id": "c11572d4-582c-4538-8d5e-3ecf413cbdcb",
   "metadata": {},
   "outputs": [],
   "source": [
    "dataframes_path = \"{}/dataframes\".format(git_root_path)"
   ]
  },
  {
   "cell_type": "code",
   "execution_count": 9,
   "id": "911a1e52-7bca-4cff-b329-a2cb527f5786",
   "metadata": {},
   "outputs": [],
   "source": [
    "provinces_gdf.to_pickle(\"{}/provinces_gdf.pkl\".format(dataframes_path))"
   ]
  }
 ],
 "metadata": {
  "kernelspec": {
   "display_name": "my-jupyter-env",
   "language": "python",
   "name": "my-jupyter-env"
  },
  "language_info": {
   "codemirror_mode": {
    "name": "ipython",
    "version": 3
   },
   "file_extension": ".py",
   "mimetype": "text/x-python",
   "name": "python",
   "nbconvert_exporter": "python",
   "pygments_lexer": "ipython3",
   "version": "3.10.6"
  }
 },
 "nbformat": 4,
 "nbformat_minor": 5
}
