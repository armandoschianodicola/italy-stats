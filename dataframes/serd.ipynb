{
 "cells": [
  {
   "cell_type": "code",
   "execution_count": 1,
   "id": "7f582c5e-c64a-47ff-afc2-eb9dbd4ccadb",
   "metadata": {},
   "outputs": [],
   "source": [
    "import os\n",
    "import sys"
   ]
  },
  {
   "cell_type": "code",
   "execution_count": 2,
   "id": "2626916b-9c5c-4dfc-bf86-3700ebeb7013",
   "metadata": {},
   "outputs": [],
   "source": [
    "import pandas as pd\n",
    "import geopandas as gpd\n",
    "import numpy as np\n",
    "import matplotlib.pyplot as plt"
   ]
  },
  {
   "cell_type": "code",
   "execution_count": 3,
   "id": "bc6d845b-1411-49ed-ac5e-f90dcd6bf08b",
   "metadata": {},
   "outputs": [],
   "source": [
    "module_path = os.path.abspath(os.path.join('..'))\n",
    "if module_path not in sys.path:\n",
    "    sys.path.append(module_path)\n",
    "\n",
    "from utils import cleaner"
   ]
  },
  {
   "cell_type": "code",
   "execution_count": 4,
   "id": "a94259e0-4f29-4fad-bc5f-e93bd042faf0",
   "metadata": {},
   "outputs": [],
   "source": [
    "df = pd.read_csv(\n",
    "    '../datasets/C_17_dataset_188_0_upFile.csv',\n",
    "    delimiter=\";\",\n",
    "    keep_default_na=False)"
   ]
  },
  {
   "cell_type": "code",
   "execution_count": 5,
   "id": "0b4c664a-1ebd-40c2-a2a4-8d6107b36700",
   "metadata": {},
   "outputs": [
    {
     "data": {
      "text/plain": [
       "array(['PIEMONTE             ', 'VALLE D`AOSTA        ',\n",
       "       'LOMBARDIA            ', 'PROV. AUTON. BOLZANO ',\n",
       "       'PROV. AUTON. TRENTO  ', 'VENETO               ',\n",
       "       'FRIULI VENEZIA GIULIA', 'LIGURIA              ',\n",
       "       'EMILIA ROMAGNA       ', 'TOSCANA              ',\n",
       "       'UMBRIA               ', 'MARCHE               ',\n",
       "       'LAZIO                ', 'ABRUZZO              ',\n",
       "       'MOLISE               ', 'CAMPANIA             ',\n",
       "       'PUGLIA               ', '', 'BASILICATA           ',\n",
       "       'CALABRIA             ', 'SICILIA              ',\n",
       "       'SARDEGNA             '], dtype=object)"
      ]
     },
     "execution_count": 5,
     "metadata": {},
     "output_type": "execute_result"
    }
   ],
   "source": [
    "df[\"DENOMINAZIONE REGIONE\"].unique()"
   ]
  },
  {
   "cell_type": "code",
   "execution_count": 6,
   "id": "9e5e285d-b532-40a8-91fa-b87f0212b885",
   "metadata": {},
   "outputs": [],
   "source": [
    "cleaner = cleaner.Cleaner(df)"
   ]
  },
  {
   "cell_type": "code",
   "execution_count": 7,
   "id": "605927d2-60b5-4fce-b80e-57db313c738f",
   "metadata": {},
   "outputs": [],
   "source": [
    "cleaner.clean_regions(\"DENOMINAZIONE REGIONE\")"
   ]
  },
  {
   "cell_type": "code",
   "execution_count": 8,
   "id": "879f896f-c29f-4c1a-aa0f-d39d9d3a8d32",
   "metadata": {},
   "outputs": [
    {
     "data": {
      "text/plain": [
       "array(['piemonte', \"valle d'aosta\", 'lombardia', 'trentino alto adige',\n",
       "       'veneto', 'friuli venezia giulia', 'liguria', 'emilia romagna',\n",
       "       'toscana', 'umbria', 'marche', 'lazio', 'abruzzo', 'molise',\n",
       "       'campania', 'puglia', '', 'basilicata', 'calabria', 'sicilia',\n",
       "       'sardegna'], dtype=object)"
      ]
     },
     "execution_count": 8,
     "metadata": {},
     "output_type": "execute_result"
    }
   ],
   "source": [
    "df[\"DENOMINAZIONE REGIONE\"].unique()"
   ]
  }
 ],
 "metadata": {
  "kernelspec": {
   "display_name": "my-jupyter-env",
   "language": "python",
   "name": "my-jupyter-env"
  },
  "language_info": {
   "codemirror_mode": {
    "name": "ipython",
    "version": 3
   },
   "file_extension": ".py",
   "mimetype": "text/x-python",
   "name": "python",
   "nbconvert_exporter": "python",
   "pygments_lexer": "ipython3",
   "version": "3.10.6"
  }
 },
 "nbformat": 4,
 "nbformat_minor": 5
}
