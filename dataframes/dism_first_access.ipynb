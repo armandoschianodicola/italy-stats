{
 "cells": [
  {
   "cell_type": "code",
   "execution_count": 1,
   "id": "7f582c5e-c64a-47ff-afc2-eb9dbd4ccadb",
   "metadata": {},
   "outputs": [],
   "source": [
    "import os\n",
    "import sys"
   ]
  },
  {
   "cell_type": "code",
   "execution_count": 2,
   "id": "2626916b-9c5c-4dfc-bf86-3700ebeb7013",
   "metadata": {},
   "outputs": [],
   "source": [
    "import pandas as pd\n",
    "import geopandas as gpd\n",
    "import numpy as np\n",
    "import matplotlib.pyplot as plt"
   ]
  },
  {
   "cell_type": "code",
   "execution_count": 3,
   "id": "bc6d845b-1411-49ed-ac5e-f90dcd6bf08b",
   "metadata": {},
   "outputs": [],
   "source": [
    "module_path = os.path.abspath(os.path.join('..'))\n",
    "if module_path not in sys.path:\n",
    "    sys.path.append(module_path)\n",
    "\n",
    "from utils import column_formatter, path_utils"
   ]
  },
  {
   "cell_type": "code",
   "execution_count": 4,
   "id": "f7692ca9-d29c-420b-af53-faa34bf34862",
   "metadata": {},
   "outputs": [],
   "source": [
    "pathUtils = path_utils.PathUtils()"
   ]
  },
  {
   "cell_type": "code",
   "execution_count": 5,
   "id": "a94259e0-4f29-4fad-bc5f-e93bd042faf0",
   "metadata": {},
   "outputs": [],
   "source": [
    "df_dism_first_access = pd.read_csv(\n",
    "    '../datasets/C_17_dataset_183_0_upFile.csv',\n",
    "    delimiter=\";\",\n",
    "    encoding = \"ISO-8859-1\",\n",
    "    keep_default_na=False)"
   ]
  },
  {
   "cell_type": "code",
   "execution_count": 6,
   "id": "d5d5fcf0-1947-4260-b17b-5542c7285df0",
   "metadata": {},
   "outputs": [],
   "source": [
    "col_formatter = column_formatter.ColumnFormatter(df_dism_first_access)"
   ]
  },
  {
   "cell_type": "code",
   "execution_count": 7,
   "id": "f40a6764-f66b-4657-a4c5-4cc687910c49",
   "metadata": {},
   "outputs": [
    {
     "data": {
      "text/html": [
       "<div>\n",
       "<style scoped>\n",
       "    .dataframe tbody tr th:only-of-type {\n",
       "        vertical-align: middle;\n",
       "    }\n",
       "\n",
       "    .dataframe tbody tr th {\n",
       "        vertical-align: top;\n",
       "    }\n",
       "\n",
       "    .dataframe thead th {\n",
       "        text-align: right;\n",
       "    }\n",
       "</style>\n",
       "<table border=\"1\" class=\"dataframe\">\n",
       "  <thead>\n",
       "    <tr style=\"text-align: right;\">\n",
       "      <th></th>\n",
       "      <th>Anno</th>\n",
       "      <th>Codice Regione</th>\n",
       "      <th>Descrizione Regione</th>\n",
       "      <th>Codice Asl</th>\n",
       "      <th>Asl</th>\n",
       "      <th>Cod Dsm</th>\n",
       "      <th>DSM</th>\n",
       "      <th>Codice Sesso</th>\n",
       "      <th>Sesso</th>\n",
       "      <th>Gruppo Diagnostico</th>\n",
       "      <th>Numero Accessi</th>\n",
       "    </tr>\n",
       "  </thead>\n",
       "  <tbody>\n",
       "    <tr>\n",
       "      <th>0</th>\n",
       "      <td>2022</td>\n",
       "      <td>10</td>\n",
       "      <td>PIEMONTE</td>\n",
       "      <td>203</td>\n",
       "      <td>TO3</td>\n",
       "      <td>D01</td>\n",
       "      <td>DIPARTIMENTO INTERAZIENDALE DI SALUTE MENTALE</td>\n",
       "      <td>1</td>\n",
       "      <td>Maschio</td>\n",
       "      <td>Alcolismo e tossicomanie</td>\n",
       "      <td>271</td>\n",
       "    </tr>\n",
       "    <tr>\n",
       "      <th>1</th>\n",
       "      <td>2022</td>\n",
       "      <td>10</td>\n",
       "      <td>PIEMONTE</td>\n",
       "      <td>203</td>\n",
       "      <td>TO3</td>\n",
       "      <td>D01</td>\n",
       "      <td>DIPARTIMENTO INTERAZIENDALE DI SALUTE MENTALE</td>\n",
       "      <td>1</td>\n",
       "      <td>Maschio</td>\n",
       "      <td>Altri disturbi psichici</td>\n",
       "      <td>889</td>\n",
       "    </tr>\n",
       "    <tr>\n",
       "      <th>2</th>\n",
       "      <td>2022</td>\n",
       "      <td>10</td>\n",
       "      <td>PIEMONTE</td>\n",
       "      <td>203</td>\n",
       "      <td>TO3</td>\n",
       "      <td>D01</td>\n",
       "      <td>DIPARTIMENTO INTERAZIENDALE DI SALUTE MENTALE</td>\n",
       "      <td>1</td>\n",
       "      <td>Maschio</td>\n",
       "      <td>Assenza di patologia psichiatrica</td>\n",
       "      <td>86</td>\n",
       "    </tr>\n",
       "    <tr>\n",
       "      <th>3</th>\n",
       "      <td>2022</td>\n",
       "      <td>10</td>\n",
       "      <td>PIEMONTE</td>\n",
       "      <td>203</td>\n",
       "      <td>TO3</td>\n",
       "      <td>D01</td>\n",
       "      <td>DIPARTIMENTO INTERAZIENDALE DI SALUTE MENTALE</td>\n",
       "      <td>1</td>\n",
       "      <td>Maschio</td>\n",
       "      <td>Demenze e disturbi mentali organici</td>\n",
       "      <td>126</td>\n",
       "    </tr>\n",
       "    <tr>\n",
       "      <th>4</th>\n",
       "      <td>2022</td>\n",
       "      <td>10</td>\n",
       "      <td>PIEMONTE</td>\n",
       "      <td>203</td>\n",
       "      <td>TO3</td>\n",
       "      <td>D01</td>\n",
       "      <td>DIPARTIMENTO INTERAZIENDALE DI SALUTE MENTALE</td>\n",
       "      <td>1</td>\n",
       "      <td>Maschio</td>\n",
       "      <td>Depressione</td>\n",
       "      <td>1606</td>\n",
       "    </tr>\n",
       "    <tr>\n",
       "      <th>...</th>\n",
       "      <td>...</td>\n",
       "      <td>...</td>\n",
       "      <td>...</td>\n",
       "      <td>...</td>\n",
       "      <td>...</td>\n",
       "      <td>...</td>\n",
       "      <td>...</td>\n",
       "      <td>...</td>\n",
       "      <td>...</td>\n",
       "      <td>...</td>\n",
       "      <td>...</td>\n",
       "    </tr>\n",
       "    <tr>\n",
       "      <th>2906</th>\n",
       "      <td>2022</td>\n",
       "      <td>200</td>\n",
       "      <td>SARDEGNA</td>\n",
       "      <td>308</td>\n",
       "      <td>ASL N. 8 DI CAGLIARI</td>\n",
       "      <td>D11</td>\n",
       "      <td>DIPARTIMENTO DI SALUTE MENTALE (DSM) - ZONA SUD</td>\n",
       "      <td>2</td>\n",
       "      <td>Femmina</td>\n",
       "      <td>Disturbi della personalità e del comportamento</td>\n",
       "      <td>455</td>\n",
       "    </tr>\n",
       "    <tr>\n",
       "      <th>2907</th>\n",
       "      <td>2022</td>\n",
       "      <td>200</td>\n",
       "      <td>SARDEGNA</td>\n",
       "      <td>308</td>\n",
       "      <td>ASL N. 8 DI CAGLIARI</td>\n",
       "      <td>D11</td>\n",
       "      <td>DIPARTIMENTO DI SALUTE MENTALE (DSM) - ZONA SUD</td>\n",
       "      <td>2</td>\n",
       "      <td>Femmina</td>\n",
       "      <td>Mania e disturbi affettivi bipolari</td>\n",
       "      <td>1870</td>\n",
       "    </tr>\n",
       "    <tr>\n",
       "      <th>2908</th>\n",
       "      <td>2022</td>\n",
       "      <td>200</td>\n",
       "      <td>SARDEGNA</td>\n",
       "      <td>308</td>\n",
       "      <td>ASL N. 8 DI CAGLIARI</td>\n",
       "      <td>D11</td>\n",
       "      <td>DIPARTIMENTO DI SALUTE MENTALE (DSM) - ZONA SUD</td>\n",
       "      <td>2</td>\n",
       "      <td>Femmina</td>\n",
       "      <td>Ritardo mentale</td>\n",
       "      <td>186</td>\n",
       "    </tr>\n",
       "    <tr>\n",
       "      <th>2909</th>\n",
       "      <td>2022</td>\n",
       "      <td>200</td>\n",
       "      <td>SARDEGNA</td>\n",
       "      <td>308</td>\n",
       "      <td>ASL N. 8 DI CAGLIARI</td>\n",
       "      <td>D11</td>\n",
       "      <td>DIPARTIMENTO DI SALUTE MENTALE (DSM) - ZONA SUD</td>\n",
       "      <td>2</td>\n",
       "      <td>Femmina</td>\n",
       "      <td>Schizofrenia e altre psicosi funzionali</td>\n",
       "      <td>1931</td>\n",
       "    </tr>\n",
       "    <tr>\n",
       "      <th>2910</th>\n",
       "      <td>2022</td>\n",
       "      <td>200</td>\n",
       "      <td>SARDEGNA</td>\n",
       "      <td>308</td>\n",
       "      <td>ASL N. 8 DI CAGLIARI</td>\n",
       "      <td>D11</td>\n",
       "      <td>DIPARTIMENTO DI SALUTE MENTALE (DSM) - ZONA SUD</td>\n",
       "      <td>2</td>\n",
       "      <td>Femmina</td>\n",
       "      <td>Sindromi nevrotiche e somatoformi</td>\n",
       "      <td>582</td>\n",
       "    </tr>\n",
       "  </tbody>\n",
       "</table>\n",
       "<p>2911 rows × 11 columns</p>\n",
       "</div>"
      ],
      "text/plain": [
       "      Anno  Codice Regione Descrizione Regione  Codice Asl  \\\n",
       "0     2022              10            PIEMONTE         203   \n",
       "1     2022              10            PIEMONTE         203   \n",
       "2     2022              10            PIEMONTE         203   \n",
       "3     2022              10            PIEMONTE         203   \n",
       "4     2022              10            PIEMONTE         203   \n",
       "...    ...             ...                 ...         ...   \n",
       "2906  2022             200            SARDEGNA         308   \n",
       "2907  2022             200            SARDEGNA         308   \n",
       "2908  2022             200            SARDEGNA         308   \n",
       "2909  2022             200            SARDEGNA         308   \n",
       "2910  2022             200            SARDEGNA         308   \n",
       "\n",
       "                      Asl  Cod Dsm  \\\n",
       "0                      TO3     D01   \n",
       "1                      TO3     D01   \n",
       "2                      TO3     D01   \n",
       "3                      TO3     D01   \n",
       "4                      TO3     D01   \n",
       "...                    ...     ...   \n",
       "2906  ASL N. 8 DI CAGLIARI     D11   \n",
       "2907  ASL N. 8 DI CAGLIARI     D11   \n",
       "2908  ASL N. 8 DI CAGLIARI     D11   \n",
       "2909  ASL N. 8 DI CAGLIARI     D11   \n",
       "2910  ASL N. 8 DI CAGLIARI     D11   \n",
       "\n",
       "                                                  DSM  Codice Sesso    Sesso  \\\n",
       "0       DIPARTIMENTO INTERAZIENDALE DI SALUTE MENTALE             1  Maschio   \n",
       "1       DIPARTIMENTO INTERAZIENDALE DI SALUTE MENTALE             1  Maschio   \n",
       "2       DIPARTIMENTO INTERAZIENDALE DI SALUTE MENTALE             1  Maschio   \n",
       "3       DIPARTIMENTO INTERAZIENDALE DI SALUTE MENTALE             1  Maschio   \n",
       "4       DIPARTIMENTO INTERAZIENDALE DI SALUTE MENTALE             1  Maschio   \n",
       "...                                               ...           ...      ...   \n",
       "2906  DIPARTIMENTO DI SALUTE MENTALE (DSM) - ZONA SUD             2  Femmina   \n",
       "2907  DIPARTIMENTO DI SALUTE MENTALE (DSM) - ZONA SUD             2  Femmina   \n",
       "2908  DIPARTIMENTO DI SALUTE MENTALE (DSM) - ZONA SUD             2  Femmina   \n",
       "2909  DIPARTIMENTO DI SALUTE MENTALE (DSM) - ZONA SUD             2  Femmina   \n",
       "2910  DIPARTIMENTO DI SALUTE MENTALE (DSM) - ZONA SUD             2  Femmina   \n",
       "\n",
       "                                  Gruppo Diagnostico  Numero Accessi   \n",
       "0                           Alcolismo e tossicomanie              271  \n",
       "1                            Altri disturbi psichici              889  \n",
       "2                  Assenza di patologia psichiatrica               86  \n",
       "3                Demenze e disturbi mentali organici              126  \n",
       "4                                        Depressione             1606  \n",
       "...                                              ...              ...  \n",
       "2906  Disturbi della personalità e del comportamento              455  \n",
       "2907             Mania e disturbi affettivi bipolari             1870  \n",
       "2908                                 Ritardo mentale              186  \n",
       "2909         Schizofrenia e altre psicosi funzionali             1931  \n",
       "2910               Sindromi nevrotiche e somatoformi              582  \n",
       "\n",
       "[2911 rows x 11 columns]"
      ]
     },
     "execution_count": 7,
     "metadata": {},
     "output_type": "execute_result"
    }
   ],
   "source": [
    "df_dism_first_access"
   ]
  },
  {
   "cell_type": "code",
   "execution_count": 8,
   "id": "e5938e54-810c-4363-979e-1955fd3e337e",
   "metadata": {},
   "outputs": [
    {
     "data": {
      "text/plain": [
       "Index(['Anno', 'Codice Regione', 'Descrizione Regione', 'Codice Asl', 'Asl ',\n",
       "       'Cod Dsm', 'DSM', 'Codice Sesso', 'Sesso', 'Gruppo Diagnostico',\n",
       "       'Numero Accessi '],\n",
       "      dtype='object')"
      ]
     },
     "execution_count": 8,
     "metadata": {},
     "output_type": "execute_result"
    }
   ],
   "source": [
    "df_dism_first_access.columns"
   ]
  },
  {
   "cell_type": "code",
   "execution_count": 9,
   "id": "1993f68d-588d-45d8-b7ab-dd01afa61cc1",
   "metadata": {},
   "outputs": [],
   "source": [
    "col_formatter.format()"
   ]
  },
  {
   "cell_type": "code",
   "execution_count": 10,
   "id": "221f2bea-f21e-4d15-a449-a2681a9d5eb6",
   "metadata": {},
   "outputs": [
    {
     "data": {
      "text/plain": [
       "Index(['anno', 'codice_regione', 'descrizione_regione', 'codice_asl', 'asl',\n",
       "       'cod_dsm', 'dsm', 'codice_sesso', 'sesso', 'gruppo_diagnostico',\n",
       "       'numero_accessi'],\n",
       "      dtype='object')"
      ]
     },
     "execution_count": 10,
     "metadata": {},
     "output_type": "execute_result"
    }
   ],
   "source": [
    "df_dism_first_access.columns"
   ]
  },
  {
   "cell_type": "code",
   "execution_count": 11,
   "id": "d188a79b-8c7d-4897-b99e-3a38e01dde9a",
   "metadata": {},
   "outputs": [],
   "source": [
    "git_root_path = pathUtils.get_git_root(os.getcwd())"
   ]
  },
  {
   "cell_type": "code",
   "execution_count": 12,
   "id": "79593867-629d-4932-97f2-249bca576b9e",
   "metadata": {},
   "outputs": [],
   "source": [
    "dataframes_path = \"{}/dataframes\".format(git_root_path)"
   ]
  },
  {
   "cell_type": "code",
   "execution_count": 13,
   "id": "032690e1-4740-4913-8ebf-250d8dba80ba",
   "metadata": {},
   "outputs": [],
   "source": [
    "df_dism_first_access.to_pickle(\"{}/df_dism_first_access.pkl\".format(dataframes_path))"
   ]
  }
 ],
 "metadata": {
  "kernelspec": {
   "display_name": "my-jupyter-env",
   "language": "python",
   "name": "my-jupyter-env"
  },
  "language_info": {
   "codemirror_mode": {
    "name": "ipython",
    "version": 3
   },
   "file_extension": ".py",
   "mimetype": "text/x-python",
   "name": "python",
   "nbconvert_exporter": "python",
   "pygments_lexer": "ipython3",
   "version": "3.10.6"
  }
 },
 "nbformat": 4,
 "nbformat_minor": 5
}
