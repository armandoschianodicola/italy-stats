{
 "cells": [
  {
   "cell_type": "code",
   "execution_count": 1,
   "id": "8e2af630-2fcc-4f13-b508-4eb399db2713",
   "metadata": {},
   "outputs": [],
   "source": [
    "import os\n",
    "import sys"
   ]
  },
  {
   "cell_type": "code",
   "execution_count": 2,
   "id": "950329f3-7d13-42fc-bdbe-4b431823472e",
   "metadata": {},
   "outputs": [],
   "source": [
    "import pandas as pd\n",
    "import numpy as np\n",
    "import matplotlib.pyplot as plt\n",
    "from matplotlib import cm\n",
    "from matplotlib.patches import Patch\n",
    "from matplotlib.colors import ListedColormap"
   ]
  },
  {
   "cell_type": "code",
   "execution_count": 3,
   "id": "57d3f94c-352d-4124-8612-368f51268e3c",
   "metadata": {},
   "outputs": [],
   "source": [
    "module_path = os.path.abspath(os.path.join('..'))\n",
    "if module_path not in sys.path:\n",
    "    sys.path.append(module_path)\n",
    "\n",
    "from utils import region_formatter, path_utils"
   ]
  },
  {
   "cell_type": "code",
   "execution_count": 4,
   "id": "8ce1063a-8db3-4fa6-9491-9f5edf6b95aa",
   "metadata": {},
   "outputs": [],
   "source": [
    "pathUtils = path_utils.PathUtils()"
   ]
  },
  {
   "cell_type": "code",
   "execution_count": 5,
   "id": "4de318b5-75ac-4081-b9a9-9561814f9273",
   "metadata": {},
   "outputs": [],
   "source": [
    "git_root_path = pathUtils.get_git_root(os.getcwd())\n",
    "dataframes_path = \"{}/dataframes\".format(git_root_path)"
   ]
  },
  {
   "cell_type": "code",
   "execution_count": 6,
   "id": "13c4f0a7-e95a-4a9e-8dfa-ce7de4a9b0a0",
   "metadata": {},
   "outputs": [],
   "source": [
    "%run ../dataframes/provinces_gdf.ipynb -i\n",
    "provinces_gdf = pd.read_pickle(\"{}/provinces_gdf.pkl\".format(dataframes_path))"
   ]
  },
  {
   "cell_type": "code",
   "execution_count": 7,
   "id": "f16ab6a8-e9b3-44ac-b34b-790e23f5420e",
   "metadata": {},
   "outputs": [],
   "source": [
    "%run ../dataframes/asl.ipynb -i\n",
    "df_asl = pd.read_pickle(\"{}/df_asl.pkl\".format(dataframes_path))"
   ]
  },
  {
   "cell_type": "code",
   "execution_count": 8,
   "id": "bb1fc54b-de6b-4ed9-871f-b102038dcd12",
   "metadata": {},
   "outputs": [],
   "source": [
    "%run ../dataframes/dism_first_access.ipynb -i\n",
    "df_dism_first_access = pd.read_pickle(\"{}/df_dism_first_access.pkl\".format(dataframes_path))"
   ]
  },
  {
   "cell_type": "code",
   "execution_count": 9,
   "id": "c8cf0129-bb8e-48ff-b1cc-6c53a800a668",
   "metadata": {},
   "outputs": [
    {
     "name": "stderr",
     "output_type": "stream",
     "text": [
      "/tmp/ipykernel_15893/2585086282.py:1: MatplotlibDeprecationWarning: The get_cmap function was deprecated in Matplotlib 3.7 and will be removed two minor releases later. Use ``matplotlib.colormaps[name]`` or ``matplotlib.colormaps.get_cmap(obj)`` instead.\n",
      "  hsv_modified = cm.get_cmap('viridis', 256)\n"
     ]
    }
   ],
   "source": [
    "hsv_modified = cm.get_cmap('viridis', 256)\n",
    "newcmp = ListedColormap(hsv_modified(np.linspace(0.7, 0.1, 256)))# show figure\n"
   ]
  },
  {
   "cell_type": "code",
   "execution_count": 10,
   "id": "c26df96a-8361-4c2c-893f-21fe0382c401",
   "metadata": {},
   "outputs": [],
   "source": [
    "### Constants\n",
    "OUTPUT_DIR = \"output\"\n",
    "TARGET_GROUP = \"Depressione\"\n",
    "TARGET_GROUP_TEXT = \"Depressione\"\n",
    "YEAR = \"2022\"\n",
    "# CMAP = (ListedColormap(['cyan', 'yellow', 'orange']))\n",
    "CMAP = newcmp"
   ]
  },
  {
   "cell_type": "code",
   "execution_count": 11,
   "id": "7788534c-12cf-472b-a7f1-1e3dd43e34b4",
   "metadata": {},
   "outputs": [],
   "source": [
    "plt.rcParams[\"figure.figsize\"] = [7.50, 5.50]\n",
    "plt.rcParams[\"figure.autolayout\"] = True"
   ]
  },
  {
   "cell_type": "code",
   "execution_count": 12,
   "id": "af857458-c2b1-4d47-a056-5e7de17c4d52",
   "metadata": {},
   "outputs": [],
   "source": [
    "REGION_COLOURS = {\n",
    "    \"Nord\": \"#211C6A\", \n",
    "    \"Centro\": \"#59B4C3\",\n",
    "    \"Sud e Isole\": \"#74E291\",\n",
    "}"
   ]
  },
  {
   "cell_type": "code",
   "execution_count": 13,
   "id": "8c01656a-260c-4127-a7ec-8f6e8685a7ee",
   "metadata": {},
   "outputs": [],
   "source": [
    "if not os.path.exists(OUTPUT_DIR):\n",
    "    # Create the directory\n",
    "    os.makedirs(OUTPUT_DIR)"
   ]
  },
  {
   "cell_type": "markdown",
   "id": "1e388d89-e9ad-49b3-bfc5-ebda2986c6ac",
   "metadata": {},
   "source": [
    "# prepare dataframe"
   ]
  },
  {
   "cell_type": "code",
   "execution_count": 14,
   "id": "a6382eef-00f9-4e3b-a459-888644494e25",
   "metadata": {},
   "outputs": [],
   "source": [
    "df = df_dism_first_access.loc[df_dism_first_access[\"gruppo_diagnostico\"] == TARGET_GROUP, [\n",
    "    \"codice_asl\", \n",
    "    \"descrizione_regione\",\n",
    "    \"sesso\",\n",
    "    \"numero_accessi\"\n",
    "] ]"
   ]
  },
  {
   "cell_type": "code",
   "execution_count": 15,
   "id": "be304eaa-38e5-40ef-8105-096d60e87805",
   "metadata": {},
   "outputs": [
    {
     "data": {
      "text/html": [
       "<div>\n",
       "<style scoped>\n",
       "    .dataframe tbody tr th:only-of-type {\n",
       "        vertical-align: middle;\n",
       "    }\n",
       "\n",
       "    .dataframe tbody tr th {\n",
       "        vertical-align: top;\n",
       "    }\n",
       "\n",
       "    .dataframe thead th {\n",
       "        text-align: right;\n",
       "    }\n",
       "</style>\n",
       "<table border=\"1\" class=\"dataframe\">\n",
       "  <thead>\n",
       "    <tr style=\"text-align: right;\">\n",
       "      <th></th>\n",
       "      <th>codice_asl</th>\n",
       "      <th>descrizione_regione</th>\n",
       "      <th>sesso</th>\n",
       "      <th>numero_accessi</th>\n",
       "    </tr>\n",
       "  </thead>\n",
       "  <tbody>\n",
       "    <tr>\n",
       "      <th>4</th>\n",
       "      <td>203</td>\n",
       "      <td>PIEMONTE</td>\n",
       "      <td>Maschio</td>\n",
       "      <td>1606</td>\n",
       "    </tr>\n",
       "    <tr>\n",
       "      <th>15</th>\n",
       "      <td>203</td>\n",
       "      <td>PIEMONTE</td>\n",
       "      <td>Femmina</td>\n",
       "      <td>3129</td>\n",
       "    </tr>\n",
       "    <tr>\n",
       "      <th>26</th>\n",
       "      <td>204</td>\n",
       "      <td>PIEMONTE</td>\n",
       "      <td>Maschio</td>\n",
       "      <td>1557</td>\n",
       "    </tr>\n",
       "    <tr>\n",
       "      <th>37</th>\n",
       "      <td>204</td>\n",
       "      <td>PIEMONTE</td>\n",
       "      <td>Femmina</td>\n",
       "      <td>2785</td>\n",
       "    </tr>\n",
       "    <tr>\n",
       "      <th>48</th>\n",
       "      <td>205</td>\n",
       "      <td>PIEMONTE</td>\n",
       "      <td>Maschio</td>\n",
       "      <td>549</td>\n",
       "    </tr>\n",
       "    <tr>\n",
       "      <th>...</th>\n",
       "      <td>...</td>\n",
       "      <td>...</td>\n",
       "      <td>...</td>\n",
       "      <td>...</td>\n",
       "    </tr>\n",
       "    <tr>\n",
       "      <th>2865</th>\n",
       "      <td>305</td>\n",
       "      <td>SARDEGNA</td>\n",
       "      <td>Femmina</td>\n",
       "      <td>344</td>\n",
       "    </tr>\n",
       "    <tr>\n",
       "      <th>2875</th>\n",
       "      <td>306</td>\n",
       "      <td>SARDEGNA</td>\n",
       "      <td>Maschio</td>\n",
       "      <td>70</td>\n",
       "    </tr>\n",
       "    <tr>\n",
       "      <th>2884</th>\n",
       "      <td>306</td>\n",
       "      <td>SARDEGNA</td>\n",
       "      <td>Femmina</td>\n",
       "      <td>128</td>\n",
       "    </tr>\n",
       "    <tr>\n",
       "      <th>2894</th>\n",
       "      <td>308</td>\n",
       "      <td>SARDEGNA</td>\n",
       "      <td>Maschio</td>\n",
       "      <td>604</td>\n",
       "    </tr>\n",
       "    <tr>\n",
       "      <th>2904</th>\n",
       "      <td>308</td>\n",
       "      <td>SARDEGNA</td>\n",
       "      <td>Femmina</td>\n",
       "      <td>1359</td>\n",
       "    </tr>\n",
       "  </tbody>\n",
       "</table>\n",
       "<p>285 rows × 4 columns</p>\n",
       "</div>"
      ],
      "text/plain": [
       "      codice_asl descrizione_regione    sesso  numero_accessi\n",
       "4            203            PIEMONTE  Maschio            1606\n",
       "15           203            PIEMONTE  Femmina            3129\n",
       "26           204            PIEMONTE  Maschio            1557\n",
       "37           204            PIEMONTE  Femmina            2785\n",
       "48           205            PIEMONTE  Maschio             549\n",
       "...          ...                 ...      ...             ...\n",
       "2865         305            SARDEGNA  Femmina             344\n",
       "2875         306            SARDEGNA  Maschio              70\n",
       "2884         306            SARDEGNA  Femmina             128\n",
       "2894         308            SARDEGNA  Maschio             604\n",
       "2904         308            SARDEGNA  Femmina            1359\n",
       "\n",
       "[285 rows x 4 columns]"
      ]
     },
     "execution_count": 15,
     "metadata": {},
     "output_type": "execute_result"
    }
   ],
   "source": [
    "df"
   ]
  },
  {
   "cell_type": "code",
   "execution_count": 16,
   "id": "98e48411-701d-4640-943c-83e68ab31bb3",
   "metadata": {},
   "outputs": [],
   "source": [
    "df_asl = df_asl[[\"codice_azienda\", \"sigla_provincia\"]]"
   ]
  },
  {
   "cell_type": "code",
   "execution_count": 17,
   "id": "b2092d15-cbb8-406d-8289-09b9e99fce5e",
   "metadata": {},
   "outputs": [],
   "source": [
    "provinces_gdf = provinces_gdf[[\"prov_acr\", \"geometry\"]]"
   ]
  },
  {
   "cell_type": "code",
   "execution_count": 18,
   "id": "8818e6a5-f353-4692-8e77-2957c55ada0a",
   "metadata": {},
   "outputs": [],
   "source": [
    "df = df.set_index(\"codice_asl\").join(df_asl.set_index(\"codice_azienda\"))"
   ]
  },
  {
   "cell_type": "code",
   "execution_count": 19,
   "id": "e6a94faf-34c4-4727-9838-21551d7f5894",
   "metadata": {},
   "outputs": [],
   "source": [
    "df = df.reset_index()"
   ]
  },
  {
   "cell_type": "code",
   "execution_count": 20,
   "id": "d88c6064-3fae-4d3f-8c0f-d1920286a74b",
   "metadata": {},
   "outputs": [],
   "source": [
    "df = df.pivot_table(\n",
    "    index='sigla_provincia',\n",
    "    aggfunc='sum',\n",
    "    values='numero_accessi'\n",
    ")"
   ]
  },
  {
   "cell_type": "code",
   "execution_count": 21,
   "id": "e47f04d1-714c-49e1-a132-9847d5b407b6",
   "metadata": {},
   "outputs": [
    {
     "data": {
      "text/html": [
       "<div>\n",
       "<style scoped>\n",
       "    .dataframe tbody tr th:only-of-type {\n",
       "        vertical-align: middle;\n",
       "    }\n",
       "\n",
       "    .dataframe tbody tr th {\n",
       "        vertical-align: top;\n",
       "    }\n",
       "\n",
       "    .dataframe thead th {\n",
       "        text-align: right;\n",
       "    }\n",
       "</style>\n",
       "<table border=\"1\" class=\"dataframe\">\n",
       "  <thead>\n",
       "    <tr style=\"text-align: right;\">\n",
       "      <th></th>\n",
       "      <th>numero_accessi</th>\n",
       "    </tr>\n",
       "    <tr>\n",
       "      <th>sigla_provincia</th>\n",
       "      <th></th>\n",
       "    </tr>\n",
       "  </thead>\n",
       "  <tbody>\n",
       "    <tr>\n",
       "      <th>AG</th>\n",
       "      <td>1172475</td>\n",
       "    </tr>\n",
       "    <tr>\n",
       "      <th>AL</th>\n",
       "      <td>36030</td>\n",
       "    </tr>\n",
       "    <tr>\n",
       "      <th>AN</th>\n",
       "      <td>1016145</td>\n",
       "    </tr>\n",
       "    <tr>\n",
       "      <th>AO</th>\n",
       "      <td>279300</td>\n",
       "    </tr>\n",
       "    <tr>\n",
       "      <th>AP</th>\n",
       "      <td>918</td>\n",
       "    </tr>\n",
       "    <tr>\n",
       "      <th>...</th>\n",
       "      <td>...</td>\n",
       "    </tr>\n",
       "    <tr>\n",
       "      <th>VI</th>\n",
       "      <td>566707</td>\n",
       "    </tr>\n",
       "    <tr>\n",
       "      <th>VR</th>\n",
       "      <td>54144</td>\n",
       "    </tr>\n",
       "    <tr>\n",
       "      <th>VS</th>\n",
       "      <td>39221</td>\n",
       "    </tr>\n",
       "    <tr>\n",
       "      <th>VT</th>\n",
       "      <td>127665</td>\n",
       "    </tr>\n",
       "    <tr>\n",
       "      <th>VV</th>\n",
       "      <td>225105</td>\n",
       "    </tr>\n",
       "  </tbody>\n",
       "</table>\n",
       "<p>107 rows × 1 columns</p>\n",
       "</div>"
      ],
      "text/plain": [
       "                 numero_accessi\n",
       "sigla_provincia                \n",
       "AG                      1172475\n",
       "AL                        36030\n",
       "AN                      1016145\n",
       "AO                       279300\n",
       "AP                          918\n",
       "...                         ...\n",
       "VI                       566707\n",
       "VR                        54144\n",
       "VS                        39221\n",
       "VT                       127665\n",
       "VV                       225105\n",
       "\n",
       "[107 rows x 1 columns]"
      ]
     },
     "execution_count": 21,
     "metadata": {},
     "output_type": "execute_result"
    }
   ],
   "source": [
    "df"
   ]
  },
  {
   "cell_type": "code",
   "execution_count": 22,
   "id": "6f726722-7513-40e4-999d-ff0ad5fac63a",
   "metadata": {},
   "outputs": [],
   "source": [
    "df = df.join(provinces_gdf.set_index(\"prov_acr\"))"
   ]
  },
  {
   "cell_type": "code",
   "execution_count": 23,
   "id": "cfd524dc-7816-4d1a-b011-7736d10697c2",
   "metadata": {},
   "outputs": [
    {
     "data": {
      "text/html": [
       "<div>\n",
       "<style scoped>\n",
       "    .dataframe tbody tr th:only-of-type {\n",
       "        vertical-align: middle;\n",
       "    }\n",
       "\n",
       "    .dataframe tbody tr th {\n",
       "        vertical-align: top;\n",
       "    }\n",
       "\n",
       "    .dataframe thead th {\n",
       "        text-align: right;\n",
       "    }\n",
       "</style>\n",
       "<table border=\"1\" class=\"dataframe\">\n",
       "  <thead>\n",
       "    <tr style=\"text-align: right;\">\n",
       "      <th></th>\n",
       "      <th>numero_accessi</th>\n",
       "      <th>geometry</th>\n",
       "    </tr>\n",
       "    <tr>\n",
       "      <th>sigla_provincia</th>\n",
       "      <th></th>\n",
       "      <th></th>\n",
       "    </tr>\n",
       "  </thead>\n",
       "  <tbody>\n",
       "    <tr>\n",
       "      <th>AG</th>\n",
       "      <td>1172475</td>\n",
       "      <td>MULTIPOLYGON (((13.66344 37.19338, 13.66190 37...</td>\n",
       "    </tr>\n",
       "    <tr>\n",
       "      <th>AL</th>\n",
       "      <td>36030</td>\n",
       "      <td>POLYGON ((8.40875 44.70687, 8.41158 44.70680, ...</td>\n",
       "    </tr>\n",
       "    <tr>\n",
       "      <th>AN</th>\n",
       "      <td>1016145</td>\n",
       "      <td>POLYGON ((13.42272 43.62050, 13.42363 43.62011...</td>\n",
       "    </tr>\n",
       "    <tr>\n",
       "      <th>AO</th>\n",
       "      <td>279300</td>\n",
       "      <td>POLYGON ((7.73455 45.92365, 7.73590 45.92744, ...</td>\n",
       "    </tr>\n",
       "    <tr>\n",
       "      <th>AP</th>\n",
       "      <td>918</td>\n",
       "      <td>POLYGON ((13.50521 42.77557, 13.50498 42.77545...</td>\n",
       "    </tr>\n",
       "    <tr>\n",
       "      <th>...</th>\n",
       "      <td>...</td>\n",
       "      <td>...</td>\n",
       "    </tr>\n",
       "    <tr>\n",
       "      <th>VI</th>\n",
       "      <td>566707</td>\n",
       "      <td>POLYGON ((11.61227 45.32540, 11.61449 45.31729...</td>\n",
       "    </tr>\n",
       "    <tr>\n",
       "      <th>VR</th>\n",
       "      <td>54144</td>\n",
       "      <td>POLYGON ((11.33151 45.38763, 11.33084 45.38717...</td>\n",
       "    </tr>\n",
       "    <tr>\n",
       "      <th>VS</th>\n",
       "      <td>39221</td>\n",
       "      <td>None</td>\n",
       "    </tr>\n",
       "    <tr>\n",
       "      <th>VT</th>\n",
       "      <td>127665</td>\n",
       "      <td>MULTIPOLYGON (((11.81091 42.80692, 11.81269 42...</td>\n",
       "    </tr>\n",
       "    <tr>\n",
       "      <th>VV</th>\n",
       "      <td>225105</td>\n",
       "      <td>POLYGON ((16.24213 38.49212, 16.24165 38.49283...</td>\n",
       "    </tr>\n",
       "  </tbody>\n",
       "</table>\n",
       "<p>107 rows × 2 columns</p>\n",
       "</div>"
      ],
      "text/plain": [
       "                 numero_accessi  \\\n",
       "sigla_provincia                   \n",
       "AG                      1172475   \n",
       "AL                        36030   \n",
       "AN                      1016145   \n",
       "AO                       279300   \n",
       "AP                          918   \n",
       "...                         ...   \n",
       "VI                       566707   \n",
       "VR                        54144   \n",
       "VS                        39221   \n",
       "VT                       127665   \n",
       "VV                       225105   \n",
       "\n",
       "                                                          geometry  \n",
       "sigla_provincia                                                     \n",
       "AG               MULTIPOLYGON (((13.66344 37.19338, 13.66190 37...  \n",
       "AL               POLYGON ((8.40875 44.70687, 8.41158 44.70680, ...  \n",
       "AN               POLYGON ((13.42272 43.62050, 13.42363 43.62011...  \n",
       "AO               POLYGON ((7.73455 45.92365, 7.73590 45.92744, ...  \n",
       "AP               POLYGON ((13.50521 42.77557, 13.50498 42.77545...  \n",
       "...                                                            ...  \n",
       "VI               POLYGON ((11.61227 45.32540, 11.61449 45.31729...  \n",
       "VR               POLYGON ((11.33151 45.38763, 11.33084 45.38717...  \n",
       "VS                                                            None  \n",
       "VT               MULTIPOLYGON (((11.81091 42.80692, 11.81269 42...  \n",
       "VV               POLYGON ((16.24213 38.49212, 16.24165 38.49283...  \n",
       "\n",
       "[107 rows x 2 columns]"
      ]
     },
     "execution_count": 23,
     "metadata": {},
     "output_type": "execute_result"
    }
   ],
   "source": [
    "df"
   ]
  },
  {
   "cell_type": "code",
   "execution_count": 24,
   "id": "d1c17901-1053-4559-b9fe-3b9970425027",
   "metadata": {},
   "outputs": [
    {
     "data": {
      "text/plain": [
       "numero_accessi       int64\n",
       "geometry          geometry\n",
       "dtype: object"
      ]
     },
     "execution_count": 24,
     "metadata": {},
     "output_type": "execute_result"
    }
   ],
   "source": [
    "df = df.loc[df[\"geometry\"] == TARGET_GROUP,"
   ]
  },
  {
   "cell_type": "code",
   "execution_count": 25,
   "id": "9fb24766-e3cb-4ced-9c0b-c62ce2dc1fb4",
   "metadata": {},
   "outputs": [
    {
     "data": {
      "image/png": "[encoded data removed]",
      "text/plain": [
       "<Figure size 750x550 with 1 Axes>"
      ]
     },
     "metadata": {},
     "output_type": "display_data"
    }
   ],
   "source": [
    "df.plot(\n",
    "    legend=True,\n",
    "    cmap=CMAP\n",
    ");"
   ]
  }
 ],
 "metadata": {
  "kernelspec": {
   "display_name": "my-jupyter-env",
   "language": "python",
   "name": "my-jupyter-env"
  },
  "language_info": {
   "codemirror_mode": {
    "name": "ipython",
    "version": 3
   },
   "file_extension": ".py",
   "mimetype": "text/x-python",
   "name": "python",
   "nbconvert_exporter": "python",
   "pygments_lexer": "ipython3",
   "version": "3.10.6"
  }
 },
 "nbformat": 4,
 "nbformat_minor": 5
}
