{
 "cells": [
  {
   "cell_type": "code",
   "execution_count": 1,
   "id": "eb2a23ed-880e-43d7-8a63-f92f70c54f75",
   "metadata": {},
   "outputs": [],
   "source": [
    "import csv"
   ]
  },
  {
   "cell_type": "code",
   "execution_count": 2,
   "id": "ac05ff26-bcb3-4448-8ddf-4f1c420fdb06",
   "metadata": {},
   "outputs": [],
   "source": [
    "denominazione_azienda_map = {}"
   ]
  },
  {
   "cell_type": "code",
   "execution_count": 3,
   "id": "f863bb8c-1d26-4a20-be42-a8f9a7bed1b0",
   "metadata": {},
   "outputs": [],
   "source": [
    "try:\n",
    "\n",
    "    # name of csv file\n",
    "    filename = \"../datasets/denominazione_azienda_mapper.csv\"\n",
    "\n",
    "    with open(filename, mode='r') as infile:\n",
    "        reader = csv.reader(infile, delimiter=\";\")\n",
    "        next(reader, None)\n",
    "        for row in reader:\n",
    "            if row:\n",
    "                old = row[0].lower().strip()\n",
    "                new = row[1].lower().strip()\n",
    "                denominazione_azienda_map[old] = new\n",
    "    \n",
    "except Exception as e:\n",
    "    print(e)\n",
    "    print(\"Error\")"
   ]
  },
  {
   "cell_type": "code",
   "execution_count": 4,
   "id": "e4da94ca-d2de-4a5a-9fde-05a2fdf430e6",
   "metadata": {},
   "outputs": [
    {
     "data": {
      "text/plain": [
       "{'pistoia': 'azienda usl toscana centro',\n",
       " 'prato': 'azienda usl toscana centro',\n",
       " 'empoli': 'azienda usl toscana centro',\n",
       " 'firenze': 'azienda usl toscana centro'}"
      ]
     },
     "execution_count": 4,
     "metadata": {},
     "output_type": "execute_result"
    }
   ],
   "source": [
    "denominazione_azienda_map"
   ]
  }
 ],
 "metadata": {
  "kernelspec": {
   "display_name": "my-jupyter-env",
   "language": "python",
   "name": "my-jupyter-env"
  },
  "language_info": {
   "codemirror_mode": {
    "name": "ipython",
    "version": 3
   },
   "file_extension": ".py",
   "mimetype": "text/x-python",
   "name": "python",
   "nbconvert_exporter": "python",
   "pygments_lexer": "ipython3",
   "version": "3.10.6"
  }
 },
 "nbformat": 4,
 "nbformat_minor": 5
}
