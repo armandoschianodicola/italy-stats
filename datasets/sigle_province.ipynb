{
 "cells": [
  {
   "cell_type": "code",
   "execution_count": 1,
   "id": "eb2a23ed-880e-43d7-8a63-f92f70c54f75",
   "metadata": {},
   "outputs": [],
   "source": [
    "import csv"
   ]
  },
  {
   "cell_type": "code",
   "execution_count": 2,
   "id": "ac05ff26-bcb3-4448-8ddf-4f1c420fdb06",
   "metadata": {},
   "outputs": [],
   "source": [
    "cities_info = {}"
   ]
  },
  {
   "cell_type": "code",
   "execution_count": 3,
   "id": "f863bb8c-1d26-4a20-be42-a8f9a7bed1b0",
   "metadata": {},
   "outputs": [],
   "source": [
    "try:\n",
    "\n",
    "    # name of csv file\n",
    "    filename = \"../datasets/sigle_province.csv\"\n",
    "\n",
    "    cities_data_in = []\n",
    "\n",
    "    with open(filename, mode='r') as infile:\n",
    "        reader = csv.reader(infile, delimiter=\";\")\n",
    "        next(reader, None)\n",
    "        for row in reader:\n",
    "            if row:\n",
    "                city = row[0].lower()\n",
    "                acronym = row[1].upper()\n",
    "                cities_info[city] = {\"acronym\": acronym}\n",
    "    \n",
    "except Exception as e:\n",
    "    print(e)\n",
    "    print(\"Error\")"
   ]
  },
  {
   "cell_type": "code",
   "execution_count": 4,
   "id": "e4da94ca-d2de-4a5a-9fde-05a2fdf430e6",
   "metadata": {},
   "outputs": [
    {
     "data": {
      "text/plain": [
       "{'napoli': {'acronym': 'NA'},\n",
       " 'pozzuoli': {'acronym': 'NA'},\n",
       " 'castellammare di stabia': {'acronym': 'NA'}}"
      ]
     },
     "execution_count": 4,
     "metadata": {},
     "output_type": "execute_result"
    }
   ],
   "source": [
    "cities_info"
   ]
  }
 ],
 "metadata": {
  "kernelspec": {
   "display_name": "my-jupyter-env",
   "language": "python",
   "name": "my-jupyter-env"
  },
  "language_info": {
   "codemirror_mode": {
    "name": "ipython",
    "version": 3
   },
   "file_extension": ".py",
   "mimetype": "text/x-python",
   "name": "python",
   "nbconvert_exporter": "python",
   "pygments_lexer": "ipython3",
   "version": "3.10.6"
  }
 },
 "nbformat": 4,
 "nbformat_minor": 5
}
